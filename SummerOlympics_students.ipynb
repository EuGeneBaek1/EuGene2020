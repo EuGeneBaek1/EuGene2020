{
 "cells": [
  {
   "cell_type": "markdown",
   "metadata": {
    "colab_type": "text",
    "id": "MI7M6hsLJlV3"
   },
   "source": [
    "## Loading Olympic edition DataFrame\n",
    "\n",
    "\n",
    "In this chapter, you'll be using The Guardian's Olympic medal dataset.\n",
    "\n",
    "Your first task here is to prepare a DataFrame editions from a tab-separated values (TSV) file.\n",
    "\n",
    "Initially, editions has 26 rows (one for each Olympic edition, i.e., a year in which the Olympics was held) and 7 columns: 'Edition', 'Bronze', 'Gold', 'Silver', 'Grand Total', 'City', and 'Country'.\n",
    "\n",
    "For the analysis that follows, you won't need the overall medal counts, so you want to keep only the useful columns from editions: 'Edition', 'Grand Total', City, and Country.\n",
    "\n",
    "--------------------------------------------------------------------\n",
    "- Read file_path into a DataFrame called editions. The identifier file_path has been pre-defined with the filename \n",
    "\n",
    "   -- 'Summer Olympic medallists 1896 to 2008 - EDITIONS.tsv'. \n",
    "\n",
    "   -- You'll have to use the option sep='\\t' because the file uses tabs to delimit fields (pd.read_csv() expects commas by default).\n",
    "\n",
    "\n",
    "- Select only the columns 'Edition', 'Grand Total', 'City', and 'Country' from editions.\n",
    "- Print the final DataFrame editions in entirety (there are only 26 rows).\n",
    "-----------------------------------------------------------------------"
   ]
  },
  {
   "cell_type": "code",
   "execution_count": 1,
   "metadata": {
    "colab": {},
    "colab_type": "code",
    "id": "WnoFkfVFJjvb",
    "scrolled": false
   },
   "outputs": [
    {
     "name": "stdout",
     "output_type": "stream",
     "text": [
      "    Edition  Grand Total         City                     Country\n",
      "0      1896          151       Athens                      Greece\n",
      "1      1900          512        Paris                      France\n",
      "2      1904          470    St. Louis               United States\n",
      "3      1908          804       London              United Kingdom\n",
      "4      1912          885    Stockholm                      Sweden\n",
      "5      1920         1298      Antwerp                     Belgium\n",
      "6      1924          884        Paris                      France\n",
      "7      1928          710    Amsterdam                 Netherlands\n",
      "8      1932          615  Los Angeles               United States\n",
      "9      1936          875       Berlin                     Germany\n",
      "10     1948          814       London              United Kingdom\n",
      "11     1952          889     Helsinki                     Finland\n",
      "12     1956          885    Melbourne                   Australia\n",
      "13     1960          882         Rome                       Italy\n",
      "14     1964         1010        Tokyo                       Japan\n",
      "15     1968         1031  Mexico City                      Mexico\n",
      "16     1972         1185       Munich  West Germany (now Germany)\n",
      "17     1976         1305     Montreal                      Canada\n",
      "18     1980         1387       Moscow       U.S.S.R. (now Russia)\n",
      "19     1984         1459  Los Angeles               United States\n",
      "20     1988         1546        Seoul                 South Korea\n",
      "21     1992         1705    Barcelona                       Spain\n",
      "22     1996         1859      Atlanta               United States\n",
      "23     2000         2015       Sydney                   Australia\n",
      "24     2004         1998       Athens                      Greece\n",
      "25     2008         2042      Beijing                       China\n"
     ]
    }
   ],
   "source": [
    "#Import pandas\n",
    "import pandas as pd\n",
    "\n",
    "# Create file path: file_path\n",
    "file_path = 'Summer Olympic medalists 1896 to 2008 - EDITIONS.tsv'\n",
    "\n",
    "# Load DataFrame from file_path: editions\n",
    "editions = pd.read_csv(file_path, sep='\\t')\n",
    "\n",
    "# Extract the relevant columns: editions\n",
    "editions = editions[['Edition', 'Grand Total', 'City', 'Country']]\n",
    "\n",
    "# Print editions DataFrame\n",
    "print(editions)"
   ]
  },
  {
   "cell_type": "markdown",
   "metadata": {
    "colab_type": "text",
    "id": "-9J5CV-sJxgC"
   },
   "source": [
    "## Loading IOC codes DataFrame\n",
    "\n",
    "Your task here is to prepare a DataFrame ioc_codes from a comma-separated values (CSV) file.\n",
    "\n",
    "Initially, ioc_codes has 200 rows (one for each country) and 3 columns: 'Country', 'NOC', & 'ISO code'.\n",
    "\n",
    "For the analysis that follows, you want to keep only the useful columns from ioc_codes: 'Country' and 'NOC' (the column 'NOC' contains three-letter codes representing each country).\n",
    "\n",
    "-------------------------------------------------------\n",
    "- Read file_path into a DataFrame called ioc_codes. The identifier file_path has been pre-defined with the filename   \n",
    "   'Summer Olympic medallists 1896 to 2008 - IOC COUNTRY CODES.csv'.\n",
    "\n",
    "\n",
    "- Select only the columns 'Country' and 'NOC' from ioc_codes.\n",
    "\n",
    "- Print the leading 5 and trailing 5 rows of the DataFrame ioc_codes (there are 200 rows in total).\n",
    "--------------------------------------------------------"
   ]
  },
  {
   "cell_type": "code",
   "execution_count": 2,
   "metadata": {
    "colab": {},
    "colab_type": "code",
    "id": "gY11D1VpJvtN"
   },
   "outputs": [
    {
     "name": "stdout",
     "output_type": "stream",
     "text": [
      "           Country  NOC\n",
      "0      Afghanistan  AFG\n",
      "1          Albania  ALB\n",
      "2          Algeria  ALG\n",
      "3  American Samoa*  ASA\n",
      "4          Andorra  AND\n",
      "             Country  NOC\n",
      "196          Vietnam  VIE\n",
      "197  Virgin Islands*  ISV\n",
      "198            Yemen  YEM\n",
      "199           Zambia  ZAM\n",
      "200         Zimbabwe  ZIM\n"
     ]
    }
   ],
   "source": [
    "# Create the file path: file_path\n",
    "file_path = 'Summer Olympic medalists 1896 to 2008 - IOC COUNTRY CODES.csv'\n",
    "\n",
    "# Load DataFrame from file_path: ioc_codes\n",
    "ioc_codes = pd.read_csv(file_path)\n",
    "\n",
    "# Extract the relevant columns: ioc_codes\n",
    "ioc_codes = ioc_codes[['Country', 'NOC']]\n",
    "\n",
    "# Print first and last 5 rows of ioc_codes\n",
    "print(ioc_codes.head())\n",
    "print(ioc_codes.tail())"
   ]
  },
  {
   "cell_type": "markdown",
   "metadata": {},
   "source": [
    "-  Generate csv files named with summer_xxxx.csv from 'Summer Olympic medalists 1896 to 2008 - ALL MEDALISTS.tsv'\n",
    "- xxxx should be year (e.g., 1896)\n",
    "- The number of csv files to be generated to be equal to the number of different years from 1896 to 2008\n",
    "- Drop the \"Edition\" and \"City\" columns from the dataframe\n",
    "- Save the dataframe as summer_xxxx.csv\n",
    "\n",
    "\n",
    "\n"
   ]
  },
  {
   "cell_type": "code",
   "execution_count": 3,
   "metadata": {},
   "outputs": [
    {
     "data": {
      "text/html": [
       "<div>\n",
       "<style scoped>\n",
       "    .dataframe tbody tr th:only-of-type {\n",
       "        vertical-align: middle;\n",
       "    }\n",
       "\n",
       "    .dataframe tbody tr th {\n",
       "        vertical-align: top;\n",
       "    }\n",
       "\n",
       "    .dataframe thead th {\n",
       "        text-align: right;\n",
       "    }\n",
       "</style>\n",
       "<table border=\"1\" class=\"dataframe\">\n",
       "  <thead>\n",
       "    <tr style=\"text-align: right;\">\n",
       "      <th></th>\n",
       "      <th>City</th>\n",
       "      <th>Edition</th>\n",
       "      <th>Sport</th>\n",
       "      <th>Discipline</th>\n",
       "      <th>Athlete</th>\n",
       "      <th>NOC</th>\n",
       "      <th>Gender</th>\n",
       "      <th>Event</th>\n",
       "      <th>Event_gender</th>\n",
       "      <th>Medal</th>\n",
       "    </tr>\n",
       "  </thead>\n",
       "  <tbody>\n",
       "    <tr>\n",
       "      <th>0</th>\n",
       "      <td>Athens</td>\n",
       "      <td>1896</td>\n",
       "      <td>Aquatics</td>\n",
       "      <td>Swimming</td>\n",
       "      <td>HAJOS, Alfred</td>\n",
       "      <td>HUN</td>\n",
       "      <td>Men</td>\n",
       "      <td>100m freestyle</td>\n",
       "      <td>M</td>\n",
       "      <td>Gold</td>\n",
       "    </tr>\n",
       "    <tr>\n",
       "      <th>1</th>\n",
       "      <td>Athens</td>\n",
       "      <td>1896</td>\n",
       "      <td>Aquatics</td>\n",
       "      <td>Swimming</td>\n",
       "      <td>HERSCHMANN, Otto</td>\n",
       "      <td>AUT</td>\n",
       "      <td>Men</td>\n",
       "      <td>100m freestyle</td>\n",
       "      <td>M</td>\n",
       "      <td>Silver</td>\n",
       "    </tr>\n",
       "    <tr>\n",
       "      <th>2</th>\n",
       "      <td>Athens</td>\n",
       "      <td>1896</td>\n",
       "      <td>Aquatics</td>\n",
       "      <td>Swimming</td>\n",
       "      <td>DRIVAS, Dimitrios</td>\n",
       "      <td>GRE</td>\n",
       "      <td>Men</td>\n",
       "      <td>100m freestyle for sailors</td>\n",
       "      <td>M</td>\n",
       "      <td>Bronze</td>\n",
       "    </tr>\n",
       "    <tr>\n",
       "      <th>3</th>\n",
       "      <td>Athens</td>\n",
       "      <td>1896</td>\n",
       "      <td>Aquatics</td>\n",
       "      <td>Swimming</td>\n",
       "      <td>MALOKINIS, Ioannis</td>\n",
       "      <td>GRE</td>\n",
       "      <td>Men</td>\n",
       "      <td>100m freestyle for sailors</td>\n",
       "      <td>M</td>\n",
       "      <td>Gold</td>\n",
       "    </tr>\n",
       "    <tr>\n",
       "      <th>4</th>\n",
       "      <td>Athens</td>\n",
       "      <td>1896</td>\n",
       "      <td>Aquatics</td>\n",
       "      <td>Swimming</td>\n",
       "      <td>CHASAPIS, Spiridon</td>\n",
       "      <td>GRE</td>\n",
       "      <td>Men</td>\n",
       "      <td>100m freestyle for sailors</td>\n",
       "      <td>M</td>\n",
       "      <td>Silver</td>\n",
       "    </tr>\n",
       "  </tbody>\n",
       "</table>\n",
       "</div>"
      ],
      "text/plain": [
       "     City  Edition     Sport Discipline             Athlete  NOC Gender  \\\n",
       "0  Athens     1896  Aquatics   Swimming       HAJOS, Alfred  HUN    Men   \n",
       "1  Athens     1896  Aquatics   Swimming    HERSCHMANN, Otto  AUT    Men   \n",
       "2  Athens     1896  Aquatics   Swimming   DRIVAS, Dimitrios  GRE    Men   \n",
       "3  Athens     1896  Aquatics   Swimming  MALOKINIS, Ioannis  GRE    Men   \n",
       "4  Athens     1896  Aquatics   Swimming  CHASAPIS, Spiridon  GRE    Men   \n",
       "\n",
       "                        Event Event_gender   Medal  \n",
       "0              100m freestyle            M    Gold  \n",
       "1              100m freestyle            M  Silver  \n",
       "2  100m freestyle for sailors            M  Bronze  \n",
       "3  100m freestyle for sailors            M    Gold  \n",
       "4  100m freestyle for sailors            M  Silver  "
      ]
     },
     "execution_count": 3,
     "metadata": {},
     "output_type": "execute_result"
    }
   ],
   "source": [
    "## Generate csv files (summer_xxxx.csv)\n",
    "file_path = 'Summer Olympic medalists 1896 to 2008 - ALL MEDALISTS.tsv'\n",
    "summers = pd.read_csv(file_path, '\\t')\n",
    "summers.head()"
   ]
  },
  {
   "cell_type": "code",
   "execution_count": 4,
   "metadata": {},
   "outputs": [],
   "source": [
    "year = 1896\n",
    "\n",
    "for i in range(len(summers)):\n",
    "    summer1 = summers[summers['Edition']==year]\n",
    "    summer2 = summer1.drop(['Edition', 'City'], axis=1)\n",
    "    summer2.to_csv('summer_{}.csv'.format(year))\n",
    "    year += 4\n",
    "    if year > 2008:\n",
    "        break"
   ]
  },
  {
   "cell_type": "markdown",
   "metadata": {
    "colab_type": "text",
    "id": "xmv7qx3GJ3IP"
   },
   "source": [
    "## Building medals DataFrame\n",
    "\n",
    "Here, you'll start with the DataFrame editions from the previous exercise.\n",
    "\n",
    "You have a sequence of files summer_1896.csv, summer_1900.csv, …, summer_2008.csv, one for each Olympic edition (year).\n",
    "\n",
    "You will build up a dictionary medals_dict with the Olympic editions (years) as keys and DataFrames as values.\n",
    "\n",
    "The dictionary is built up inside a loop over the year of each Olympic edition (from the Index of editions).\n",
    "\n",
    "Once the dictionary of DataFrames is built up, you will combine the DataFrames using pd.concat().\n",
    "\n",
    "------------------------------------------------------\n",
    "Within the for loop:\n",
    "- Create the file path. This has been done for you.\n",
    "- Read file_path into a DataFrame. Assign the result to the year key of medals_dict.\n",
    "- Select only the columns 'Athlete', 'NOC', and 'Medal' from medals_dict[year].\n",
    "- Create a new column called 'Edition' in the DataFrame medals_dict[year] whose entries are all year.\n",
    "\n",
    "\n",
    "Concatenate the dictionary of DataFrames medals_dict into a DataFame called medals. Specify the keyword argument ignore_index=True to prevent repeated integer indices.\n",
    "\n",
    "Print the first and last 5 rows of medals.\n",
    "\n",
    "------------------------------------"
   ]
  },
  {
   "cell_type": "code",
   "execution_count": 5,
   "metadata": {
    "colab": {},
    "colab_type": "code",
    "id": "XHpZFZwQJ00m"
   },
   "outputs": [
    {
     "name": "stdout",
     "output_type": "stream",
     "text": [
      "              Athlete  NOC   Medal  Edition\n",
      "0       HAJOS, Alfred  HUN    Gold     1896\n",
      "1    HERSCHMANN, Otto  AUT  Silver     1896\n",
      "2   DRIVAS, Dimitrios  GRE  Bronze     1896\n",
      "3  MALOKINIS, Ioannis  GRE    Gold     1896\n",
      "4  CHASAPIS, Spiridon  GRE  Silver     1896\n",
      "                    Athlete  NOC   Medal  Edition\n",
      "29211        ENGLICH, Mirko  GER  Silver     2008\n",
      "29212  MIZGAITIS, Mindaugas  LTU  Bronze     2008\n",
      "29213       PATRIKEEV, Yuri  ARM  Bronze     2008\n",
      "29214         LOPEZ, Mijain  CUB    Gold     2008\n",
      "29215        BAROEV, Khasan  RUS  Silver     2008\n"
     ]
    }
   ],
   "source": [
    "# Create empty dictionary: medals_dict\n",
    "medals_dict = {}\n",
    "\n",
    "for year in editions['Edition']:\n",
    "\n",
    "    # Create the file path: file_path for each of summer_xxxx.csv\n",
    "    file_path = 'summer_{}.csv'.format(year)\n",
    "    \n",
    "    # Load file_path into a DataFrame: medals_dict[year]\n",
    "    medals_dict[year] = pd.read_csv(file_path)\n",
    "    \n",
    "    # Extract relevant columns: medals_dict[year]\n",
    "    medals_dict[year] = medals_dict[year][['Athlete', 'NOC', 'Medal']]\n",
    "    \n",
    "    # Assign year to column 'Edition' of medals_dict\n",
    "    medals_dict[year]['Edition'] = year\n",
    "    \n",
    "# Concatenate medals_dict: medals\n",
    "medals = pd.concat(medals_dict, ignore_index=True)\n",
    "\n",
    "# Print first and last 5 rows of medals\n",
    "print(medals.head())\n",
    "print(medals.tail())"
   ]
  },
  {
   "cell_type": "markdown",
   "metadata": {
    "colab_type": "text",
    "id": "RpDKOLfgKAa9"
   },
   "source": [
    "## Counting medals by country/edition in a pivot table\n",
    "\n",
    "Here, you'll start with the concatenated DataFrame medals from the previous exercise.\n",
    "\n",
    "You can construct a pivot table to see the number of medals each country won in each year. The result is a new DataFrame with the Olympic edition on the Index and with 138 country NOC codes as columns.\n",
    "\n",
    "---------------------------------------------------------\n",
    "- Construct a pivot table from the DataFrame medals, aggregating by count (by specifying the aggfunc parameter). Use 'Edition' as the index, 'Athlete' for the values, and 'NOC' for the columns.\n",
    "- Print the first & last 5 rows of medal_counts.\n",
    "\n",
    "--------------------------------------------------------"
   ]
  },
  {
   "cell_type": "code",
   "execution_count": 6,
   "metadata": {
    "colab": {},
    "colab_type": "code",
    "id": "zmHw00thJ_-p",
    "scrolled": false
   },
   "outputs": [
    {
     "name": "stdout",
     "output_type": "stream",
     "text": [
      "NOC      AFG  AHO  ALG  ANZ  ARG  ARM  AUS  AUT  AZE  BAH  ...  URU  USA  UZB  \\\n",
      "Edition                                                    ...                  \n",
      "1896       0    0    0    0    0    0    2    5    0    0  ...    0   20    0   \n",
      "1900       0    0    0    0    0    0    5    6    0    0  ...    0   55    0   \n",
      "1904       0    0    0    0    0    0    0    1    0    0  ...    0  394    0   \n",
      "1908       0    0    0   19    0    0    0    1    0    0  ...    0   63    0   \n",
      "1912       0    0    0   10    0    0    0   14    0    0  ...    0  101    0   \n",
      "\n",
      "NOC      VEN  VIE  YUG  ZAM  ZIM  ZZX  All  \n",
      "Edition                                     \n",
      "1896       0    0    0    0    0    6  151  \n",
      "1900       0    0    0    0    0   34  512  \n",
      "1904       0    0    0    0    0    8  470  \n",
      "1908       0    0    0    0    0    0  804  \n",
      "1912       0    0    0    0    0    0  885  \n",
      "\n",
      "[5 rows x 139 columns]\n",
      "NOC      AFG  AHO  ALG  ANZ  ARG  ARM   AUS  AUT  AZE  BAH  ...  URU   USA  \\\n",
      "Edition                                                     ...              \n",
      "1996       0    0    3    0   20    2   132    3    1    5  ...    0   260   \n",
      "2000       0    0    5    0   20    1   183    4    3    6  ...    1   248   \n",
      "2004       0    0    0    0   47    0   157    8    5    2  ...    0   264   \n",
      "2008       1    0    2    0   51    6   149    3    7    5  ...    0   315   \n",
      "All        1    1   14   29  239    9  1075  146   16   23  ...   76  4335   \n",
      "\n",
      "NOC      UZB  VEN  VIE  YUG  ZAM  ZIM  ZZX    All  \n",
      "Edition                                            \n",
      "1996       2    0    0   26    1    0    0   1859  \n",
      "2000       4    0    1   26    0    0    0   2015  \n",
      "2004       5    2    0    0    0    3    0   1998  \n",
      "2008       6    1    1    0    0    4    0   2042  \n",
      "All       17   11    2  435    2   23   48  29216  \n",
      "\n",
      "[5 rows x 139 columns]\n"
     ]
    }
   ],
   "source": [
    "# Construct the pivot_table: medal_counts\n",
    "medal_counts = medals.pivot_table(index='Edition', values='Athlete', columns='NOC', aggfunc='count', fill_value=0, margins=True)\n",
    "\n",
    "# Print the first & last 5 rows of medal_counts\n",
    "print(medal_counts.head())\n",
    "print(medal_counts.tail())"
   ]
  },
  {
   "cell_type": "markdown",
   "metadata": {
    "colab_type": "text",
    "id": "fVLC3sBkKE1M"
   },
   "source": [
    "## Computing fraction of medals per Olympic edition\n",
    "\n",
    "In this exercise, you'll start with the DataFrames editions, medals, & medal_counts from prior exercises.\n",
    "\n",
    "You can extract a Series with the total number of medals awarded in each Olympic edition.\n",
    "\n",
    "The DataFrame medal_counts can be divided row-wise by the total number of medals awarded each edition; the method .divide() performs the broadcast as you require.\n",
    "\n",
    "This gives you a normalized indication of each country's performance in each edition.\n",
    "\n",
    "------------------------------------------------\n",
    "- Set the index of the DataFrame editions to be 'Edition' (using the method .set_index()). Save the result as totals.\n",
    "- Extract the 'Grand Total' column from totals and assign the result back to totals.\n",
    "- Divide the DataFrame medal_counts by totals along each row. You will have to use the .divide() method with the option axis='rows'. Assign the result to fractions.\n",
    "- Print first & last 5 rows of the DataFrame fractions.\n",
    "\n",
    "----------------------------------------------------"
   ]
  },
  {
   "cell_type": "code",
   "execution_count": 7,
   "metadata": {
    "colab": {},
    "colab_type": "code",
    "id": "6GBO9DrmKDQH",
    "scrolled": false
   },
   "outputs": [
    {
     "name": "stdout",
     "output_type": "stream",
     "text": [
      "NOC      AFG  AHO  ALG       ANZ  ARG  ARM       AUS       AUT  AZE  BAH  ...  \\\n",
      "Edition                                                                   ...   \n",
      "1896     0.0  0.0  0.0  0.000000  0.0  0.0  0.013245  0.033113  0.0  0.0  ...   \n",
      "1900     0.0  0.0  0.0  0.000000  0.0  0.0  0.009766  0.011719  0.0  0.0  ...   \n",
      "1904     0.0  0.0  0.0  0.000000  0.0  0.0  0.000000  0.002128  0.0  0.0  ...   \n",
      "1908     0.0  0.0  0.0  0.023632  0.0  0.0  0.000000  0.001244  0.0  0.0  ...   \n",
      "1912     0.0  0.0  0.0  0.011299  0.0  0.0  0.000000  0.015819  0.0  0.0  ...   \n",
      "\n",
      "NOC      URU       USA  UZB  VEN  VIE  YUG  ZAM  ZIM       ZZX  All  \n",
      "Edition                                                              \n",
      "1896     0.0  0.132450  0.0  0.0  0.0  0.0  0.0  0.0  0.039735  1.0  \n",
      "1900     0.0  0.107422  0.0  0.0  0.0  0.0  0.0  0.0  0.066406  1.0  \n",
      "1904     0.0  0.838298  0.0  0.0  0.0  0.0  0.0  0.0  0.017021  1.0  \n",
      "1908     0.0  0.078358  0.0  0.0  0.0  0.0  0.0  0.0  0.000000  1.0  \n",
      "1912     0.0  0.114124  0.0  0.0  0.0  0.0  0.0  0.0  0.000000  1.0  \n",
      "\n",
      "[5 rows x 139 columns]\n",
      "NOC          AFG  AHO       ALG  ANZ       ARG       ARM       AUS       AUT  \\\n",
      "Edition                                                                        \n",
      "1996     0.00000  0.0  0.001614  0.0  0.010758  0.001076  0.071006  0.001614   \n",
      "2000     0.00000  0.0  0.002481  0.0  0.009926  0.000496  0.090819  0.001985   \n",
      "2004     0.00000  0.0  0.000000  0.0  0.023524  0.000000  0.078579  0.004004   \n",
      "2008     0.00049  0.0  0.000979  0.0  0.024976  0.002938  0.072968  0.001469   \n",
      "All          NaN  NaN       NaN  NaN       NaN       NaN       NaN       NaN   \n",
      "\n",
      "NOC           AZE       BAH  ...       URU       USA       UZB       VEN  \\\n",
      "Edition                      ...                                           \n",
      "1996     0.000538  0.002690  ...  0.000000  0.139860  0.001076  0.000000   \n",
      "2000     0.001489  0.002978  ...  0.000496  0.123077  0.001985  0.000000   \n",
      "2004     0.002503  0.001001  ...  0.000000  0.132132  0.002503  0.001001   \n",
      "2008     0.003428  0.002449  ...  0.000000  0.154261  0.002938  0.000490   \n",
      "All           NaN       NaN  ...       NaN       NaN       NaN       NaN   \n",
      "\n",
      "NOC           VIE       YUG       ZAM       ZIM  ZZX  All  \n",
      "Edition                                                    \n",
      "1996     0.000000  0.013986  0.000538  0.000000  0.0  1.0  \n",
      "2000     0.000496  0.012903  0.000000  0.000000  0.0  1.0  \n",
      "2004     0.000000  0.000000  0.000000  0.001502  0.0  1.0  \n",
      "2008     0.000490  0.000000  0.000000  0.001959  0.0  1.0  \n",
      "All           NaN       NaN       NaN       NaN  NaN  NaN  \n",
      "\n",
      "[5 rows x 139 columns]\n"
     ]
    }
   ],
   "source": [
    "# Set Index of editions: totals\n",
    "totals = editions.set_index('Edition')\n",
    "\n",
    "# Reassign totals['Grand Total']: totals\n",
    "totals = totals['Grand Total']\n",
    "\n",
    "# Divide medal_counts by totals: fractions\n",
    "fractions = medal_counts.divide(totals, axis='rows')\n",
    "\n",
    "# Print first & last 5 rows of fractions\n",
    "print(fractions.head())\n",
    "print(fractions.tail())"
   ]
  },
  {
   "cell_type": "markdown",
   "metadata": {
    "colab_type": "text",
    "id": "92s-7X3FKIP-"
   },
   "source": [
    "## Computing percentage change in fraction of medals won\n",
    "\n",
    "Here, you'll start with the DataFrames editions, medals, medal_counts, & fractions from prior exercises.\n",
    "\n",
    "To see if there is a host country advantage, you first want to see how the fraction of medals won changes from edition to edition.\n",
    "\n",
    "The expanding mean provides a way to see this down each column. It is the value of the mean with all the data available up to that point in time. If you are interested in learning more about pandas' expanding transformations, this section of the pandas documentation has additional information.\n",
    "\n",
    "---------------------------------------------------------\n",
    "- Create mean_fractions by chaining the methods .expanding().mean() to fractions.\n",
    "- Compute the percentage change in mean_fractions down each column by applying .pct_change() and multiplying by 100. Assign the result to fractions_change.\n",
    "- Reset the index of fractions_change using the .reset_index() method. This will make 'Edition' an ordinary column.\n",
    "- Print the first and last 5 rows of the DataFrame fractions_change.\n",
    "\n",
    "----------------------------------"
   ]
  },
  {
   "cell_type": "code",
   "execution_count": 8,
   "metadata": {
    "colab": {},
    "colab_type": "code",
    "id": "9t7-m6rhKHZT",
    "scrolled": false
   },
   "outputs": [
    {
     "name": "stdout",
     "output_type": "stream",
     "text": [
      "NOC Edition  AFG  AHO  ALG        ANZ  ARG  ARM        AUS        AUT  AZE  \\\n",
      "0      1896  NaN  NaN  NaN        NaN  NaN  NaN        NaN        NaN  NaN   \n",
      "1      1900  NaN  NaN  NaN        NaN  NaN  NaN -13.134766 -32.304688  NaN   \n",
      "2      1904  NaN  NaN  NaN        NaN  NaN  NaN -33.333333 -30.169386  NaN   \n",
      "3      1908  NaN  NaN  NaN        inf  NaN  NaN -25.000000 -23.013510  NaN   \n",
      "4      1912  NaN  NaN  NaN  18.251561  NaN  NaN -20.000000   6.254438  NaN   \n",
      "\n",
      "NOC  ...  URU         USA  UZB  VEN  VIE  YUG  ZAM  ZIM        ZZX  All  \n",
      "0    ...  NaN         NaN  NaN  NaN  NaN  NaN  NaN  NaN        NaN  NaN  \n",
      "1    ...  NaN   -9.448242  NaN  NaN  NaN  NaN  NaN  NaN  33.561198  0.0  \n",
      "2    ...  NaN  199.651245  NaN  NaN  NaN  NaN  NaN  NaN -22.642384  0.0  \n",
      "3    ...  NaN  -19.549222  NaN  NaN  NaN  NaN  NaN  NaN -25.000000  0.0  \n",
      "4    ...  NaN  -12.105733  NaN  NaN  NaN  NaN  NaN  NaN -20.000000  0.0  \n",
      "\n",
      "[5 rows x 140 columns]\n",
      "NOC Edition  AFG       AHO        ALG       ANZ        ARG         ARM  \\\n",
      "22     1996  NaN -4.347826  56.332781 -4.347826   4.356061         inf   \n",
      "23     2000  NaN -4.166667  53.029845 -4.166667   3.207561   40.040323   \n",
      "24     2004  NaN -4.000000  -4.000000 -4.000000  12.256374   -4.000000   \n",
      "25     2008  inf -3.846154  10.339174 -3.846154  10.937827  175.865011   \n",
      "26      All  0.0  0.000000   0.000000  0.000000   0.000000    0.000000   \n",
      "\n",
      "NOC        AUS       AUT         AZE  ...       URU       USA         UZB  \\\n",
      "22   11.503526 -3.458846         inf  ... -4.347826 -0.805430         inf   \n",
      "23   13.258455 -3.081143  261.075269  ... -3.646782 -1.154989  172.661290   \n",
      "24    8.779226 -1.831238  114.534288  ... -4.000000 -0.859804   74.485288   \n",
      "25    6.643269 -3.066725   68.928764  ... -3.846154 -0.290496   46.936699   \n",
      "26    0.000000  0.000000    0.000000  ...  0.000000  0.000000    0.000000   \n",
      "\n",
      "NOC        VEN        VIE       YUG        ZAM        ZIM       ZZX  All  \n",
      "22   -4.347826        NaN -0.249540  70.722923  -4.347826 -4.347826  0.0  \n",
      "23   -4.166667        inf -0.534144  -4.166667  -4.166667 -4.166667  0.0  \n",
      "24   10.190114  -4.000000 -4.000000  -4.000000   8.495495 -4.000000  0.0  \n",
      "25    2.211712  91.036314 -3.846154  -3.846154  10.601154 -3.846154  0.0  \n",
      "26    0.000000   0.000000  0.000000   0.000000   0.000000  0.000000  0.0  \n",
      "\n",
      "[5 rows x 140 columns]\n"
     ]
    }
   ],
   "source": [
    "# Apply the expanding mean: mean_fractions\n",
    "mean_fractions = fractions.expanding().mean()\n",
    "\n",
    "# Compute the percentage change: fractions_change\n",
    "fractions_change = mean_fractions.pct_change() * 100\n",
    "\n",
    "# Reset the index of fractions_change: fractions_change\n",
    "fractions_change = fractions_change.reset_index()\n",
    "\n",
    "# Print first & last 5 rows of fractions_change\n",
    "print(fractions_change.head())\n",
    "print(fractions_change.tail())"
   ]
  },
  {
   "cell_type": "markdown",
   "metadata": {
    "colab_type": "text",
    "id": "OLS-VP5gKQlk"
   },
   "source": [
    "## Building hosts DataFrame\n",
    "\n",
    "Your task here is to prepare a DataFrame hosts by left joining editions and ioc_codes.\n",
    "\n",
    "Once created, you will subset the Edition and NOC columns and set Edition as the Index.\n",
    "\n",
    "There are some missing NOC values; you will set those explicitly.\n",
    "\n",
    "Finally, you'll reset the Index & print the final DataFrame.\n",
    "\n",
    "-----------------------------------------------\n",
    "- Create the DataFrame hosts by doing a left join on DataFrames editions and ioc_codes (using pd.merge()).\n",
    "- Clean up hosts by subsetting and setting the Index.\n",
    "  - Extract the columns 'Edition' and 'NOC'.\n",
    "  - Set 'Edition' column as the Index.\n",
    "- Use the .loc[] accessor to find and assign the missing values to the 'NOC' column in hosts. This has been done for you.\n",
    "- Reset the index of hosts using .reset_index(), which you'll need to save as the hosts DataFrame.\n",
    "-----------------------------------"
   ]
  },
  {
   "cell_type": "code",
   "execution_count": 9,
   "metadata": {
    "colab": {},
    "colab_type": "code",
    "id": "zvBX7YUTKPHX",
    "scrolled": false
   },
   "outputs": [
    {
     "name": "stdout",
     "output_type": "stream",
     "text": [
      "         NOC\n",
      "Edition     \n",
      "1972     NaN\n",
      "1980     NaN\n",
      "1988     NaN\n",
      "    Edition  NOC\n",
      "0      1896  GRE\n",
      "1      1900  FRA\n",
      "2      1904  USA\n",
      "3      1908  GBR\n",
      "4      1912  SWE\n",
      "5      1920  BEL\n",
      "6      1924  FRA\n",
      "7      1928  NED\n",
      "8      1932  USA\n",
      "9      1936  GER\n",
      "10     1948  GBR\n",
      "11     1952  FIN\n",
      "12     1956  AUS\n",
      "13     1960  ITA\n",
      "14     1964  JPN\n",
      "15     1968  MEX\n",
      "16     1972  FRG\n",
      "17     1976  CAN\n",
      "18     1980  URS\n",
      "19     1984  USA\n",
      "20     1988  KOR\n",
      "21     1992  ESP\n",
      "22     1996  USA\n",
      "23     2000  AUS\n",
      "24     2004  GRE\n",
      "25     2008  CHN\n"
     ]
    }
   ],
   "source": [
    "# Left join editions and ioc_codes: hosts\n",
    "hosts = pd.merge(editions, ioc_codes, how='left')\n",
    "\n",
    "# Extract relevant columns and set index: hosts\n",
    "hosts = hosts[['Edition', 'NOC']].set_index('Edition')\n",
    "\n",
    "# Fix missing 'NOC' values of hosts\n",
    "print(hosts.loc[hosts.NOC.isnull()])\n",
    "hosts.loc[1972, 'NOC'] = 'FRG'\n",
    "hosts.loc[1980, 'NOC'] = 'URS'\n",
    "hosts.loc[1988, 'NOC'] = 'KOR'\n",
    "\n",
    "# Reset Index of hosts: hosts\n",
    "hosts = hosts.reset_index()\n",
    "\n",
    "# Print hosts\n",
    "print(hosts)"
   ]
  },
  {
   "cell_type": "markdown",
   "metadata": {
    "colab_type": "text",
    "id": "Gx5X8p9-KUcX"
   },
   "source": [
    "## Reshaping for analysis\n",
    "\n",
    "This exercise starts off with fractions_change and hosts already loaded.\n",
    "\n",
    "Your task here is to reshape the fractions_change DataFrame for later analysis.\n",
    "\n",
    "Initially, fractions_change is a wide DataFrame of 26 rows (one for each Olympic edition) and 139 columns (one for the edition and 138 for the competing countries).\n",
    "\n",
    "On reshaping with pd.melt(), as you will see, the result is a tall DataFrame with 3588 rows and 3 columns that summarizes the fractional change in the expanding mean of the percentage of medals won for each country in blocks.\n",
    "\n",
    "-------------------------------------------\n",
    "- Create a DataFrame reshaped by reshaping the DataFrame fractions_change with pd.melt().\n",
    "- You'll need to use the keyword argument id_vars='Edition' to set the identifier variable.\n",
    "- You'll also need to use the keyword argument value_name='Change' to set the measured variables.\n",
    "- Print the shape of the DataFrames reshaped and fractions_change. This has been done for you.\n",
    "- Create a DataFrame chn by extracting all the rows from reshaped in which the three letter code for each country ('NOC') is 'CHN'.\n",
    "- Print the last 5 rows of the DataFrame chn using the .tail() method.\n",
    "---------------------------------"
   ]
  },
  {
   "cell_type": "code",
   "execution_count": 10,
   "metadata": {
    "colab": {},
    "colab_type": "code",
    "id": "WsqYjdLJKS5H"
   },
   "outputs": [
    {
     "name": "stdout",
     "output_type": "stream",
     "text": [
      "(3753, 3) (27, 140)\n",
      "    Edition  NOC     Change\n",
      "589    1996  CHN  37.560895\n",
      "590    2000  CHN  15.178156\n",
      "591    2004  CHN  15.348451\n",
      "592    2008  CHN  27.044764\n",
      "593     All  CHN   0.000000\n"
     ]
    }
   ],
   "source": [
    "# Reshape fractions_change: reshaped\n",
    "reshaped = pd.melt(fractions_change, id_vars='Edition', value_name='Change')\n",
    "\n",
    "# Print reshaped.shape and fractions_change.shape\n",
    "print(reshaped.shape, fractions_change.shape)\n",
    "\n",
    "# Extract rows from reshaped where 'NOC' == 'CHN': chn\n",
    "chn = reshaped.loc[reshaped['NOC'] == 'CHN']\n",
    "\n",
    "# Print last 5 rows of chn with .tail()\n",
    "print(chn.tail())"
   ]
  },
  {
   "cell_type": "markdown",
   "metadata": {
    "colab_type": "text",
    "id": "qOoFXwXaKYS1"
   },
   "source": [
    "## Merging to compute influence\n",
    "\n",
    "This exercise starts off with the DataFrames reshaped and hosts in the namespace.\n",
    "\n",
    "Your task is to merge the two DataFrames and tidy the result.\n",
    "\n",
    "The end result is a DataFrame summarizing the fractional change in the expanding mean of the percentage of medals won for the host country in each Olympic edition.\n",
    "\n",
    "-------------------------------------------\n",
    "- Merge reshaped and hosts using an inner join. Remember, how='inner' is the default behavior for pd.merge().\n",
    "- Print the first 5 rows of the DataFrame merged. This has been done for you. You should see that the rows are jumbled chronologically.\n",
    "- Set the index of merged to be 'Edition' and sort the index.\n",
    "- Print the first 5 rows of the DataFrame influence. \n",
    "---------------------------------------------------"
   ]
  },
  {
   "cell_type": "code",
   "execution_count": 11,
   "metadata": {
    "colab": {},
    "colab_type": "code",
    "id": "yDp4o-4vKXEr"
   },
   "outputs": [
    {
     "name": "stdout",
     "output_type": "stream",
     "text": [
      "  Edition  NOC     Change\n",
      "0    1956  AUS  58.579552\n",
      "1    2000  AUS  13.258455\n",
      "2    1920  BEL  71.953208\n",
      "3    1976  CAN  -1.804199\n",
      "4    2008  CHN  27.044764\n",
      "         NOC      Change\n",
      "Edition                 \n",
      "1896     GRE         NaN\n",
      "1900     FRA  198.002486\n",
      "1904     USA  199.651245\n",
      "1908     GBR  134.489218\n",
      "1912     SWE  106.275471\n"
     ]
    }
   ],
   "source": [
    "# Merge reshaped and hosts: merged\n",
    "merged = pd.merge(reshaped, hosts)\n",
    "\n",
    "# Print first 5 rows of merged\n",
    "print(merged.head())\n",
    "\n",
    "# Set Index of merged and sort it: influence\n",
    "influence = merged.set_index('Edition').sort_index()\n",
    "\n",
    "# Print first 5 rows of influence\n",
    "print(influence.head())"
   ]
  },
  {
   "cell_type": "markdown",
   "metadata": {
    "colab_type": "text",
    "id": "CP7bfw47KdTh"
   },
   "source": [
    "## Plotting influence of host country\n",
    "\n",
    "This final exercise starts off with the DataFrames influence and editions in the namespace. Your job is to plot the influence of being a host country.\n",
    "\n",
    "--------------------------------\n",
    "- Create a Series called change by extracting the 'Change' column from influence.\n",
    "- Create a bar plot of change using the .plot() method with kind='bar'. Save the result as ax to permit further customization.\n",
    "- Reveal the final plot using plt.show().\n",
    "----------------------------------------------------------"
   ]
  },
  {
   "cell_type": "code",
   "execution_count": 12,
   "metadata": {
    "colab": {},
    "colab_type": "code",
    "id": "YCByXQvAKbT3"
   },
   "outputs": [
    {
     "data": {
      "image/png": "[encoded data removed]",
      "text/plain": [
       "<Figure size 432x288 with 1 Axes>"
      ]
     },
     "metadata": {
      "needs_background": "light"
     },
     "output_type": "display_data"
    }
   ],
   "source": [
    "# Import pyplot\n",
    "import matplotlib.pyplot as plt\n",
    "\n",
    "# Extract influence['Change']: change\n",
    "change = influence['Change']\n",
    "\n",
    "# Make bar plot of change: ax\n",
    "ax = change.plot(kind='bar')\n",
    "\n",
    "# Customize the plot to improve readability\n",
    "ax.set_ylabel(\"% Change of Host Country Medal Count\")\n",
    "ax.set_title(\"Is there a Host Country Advantage?\")\n",
    "ax.set_xticklabels(editions['City'])\n",
    "\n",
    "# Display the plot\n",
    "plt.show()"
   ]
  }
 ],
 "metadata": {
  "colab": {
   "authorship_tag": "ABX9TyNRUMghT4gBx3Cx5/WWbu8L",
   "name": "SummerOlympics.ipynb",
   "provenance": []
  },
  "kernelspec": {
   "display_name": "Python 3",
   "language": "python",
   "name": "python3"
  },
  "language_info": {
   "codemirror_mode": {
    "name": "ipython",
    "version": 3
   },
   "file_extension": ".py",
   "mimetype": "text/x-python",
   "name": "python",
   "nbconvert_exporter": "python",
   "pygments_lexer": "ipython3",
   "version": "3.8.2"
  }
 },
 "nbformat": 4,
 "nbformat_minor": 1
}
